{
  "nbformat": 4,
  "nbformat_minor": 0,
  "metadata": {
    "kernelspec": {
      "display_name": "Python 3",
      "language": "python",
      "name": "python3"
    },
    "language_info": {
      "name": "python",
      "version": "3.6.6",
      "mimetype": "text/x-python",
      "codemirror_mode": {
        "name": "ipython",
        "version": 3
      },
      "pygments_lexer": "ipython3",
      "nbconvert_exporter": "python",
      "file_extension": ".py"
    },
    "colab": {
      "provenance": [],
      "include_colab_link": true
    }
  },
  "cells": [
    {
      "cell_type": "markdown",
      "metadata": {
        "id": "view-in-github",
        "colab_type": "text"
      },
      "source": [
        "<a href=\"https://colab.research.google.com/github/azierahmed/Constructors-and-Method-Overloading/blob/master/pytorch_basics_regression.ipynb\" target=\"_parent\"><img src=\"https://colab.research.google.com/assets/colab-badge.svg\" alt=\"Open In Colab\"/></a>"
      ]
    },
    {
      "cell_type": "markdown",
      "metadata": {
        "_uuid": "8f2839f25d086af736a60e9eeb907d3b93b6e0e5",
        "_cell_guid": "b1076dfc-b9ad-4769-8c92-a6c4dae69d19",
        "trusted": true,
        "id": "q6Lj4GQOJ5wK"
      },
      "source": [
        "# PyTorch basics - Linear Regression from scratch\n",
        "\n",
        "<!-- <iframe width=\"560\" height=\"315\" src=\"https://www.youtube.com/embed/ECHX1s0Kk-o?controls=0\" frameborder=\"0\" allow=\"accelerometer; autoplay; encrypted-media; gyroscope; picture-in-picture\" allowfullscreen></iframe> -->\n",
        "\n",
        "\n",
        "## Tensors & Gradients"
      ]
    },
    {
      "cell_type": "code",
      "metadata": {
        "_cell_guid": "79c7e3d0-c299-4dcb-8224-4455121ee9b0",
        "_uuid": "d629ff2d2480ee46fbb7e2d37f6b5fab8052498a",
        "trusted": true,
        "id": "unxZnHwEJ5wN"
      },
      "source": [
        "# Import Numpy & PyTorch\n",
        "import numpy as np\n",
        "import torch\n",
        "\n",
        "import matplotlib.pyplot as plt"
      ],
      "execution_count": null,
      "outputs": []
    },
    {
      "cell_type": "markdown",
      "metadata": {
        "_uuid": "34f006aa7eb4bbc683c39b7059021da900180908",
        "id": "TUClekcMJ5wO"
      },
      "source": [
        "A tensor is a number, vector, matrix or any n-dimensional array:\n",
        "\n",
        "<image src=\"https://miro.medium.com/max/1400/1*GbwKkmA0NdndXRhOOwNclA.jpeg\">\n",
        "\n",
        "\n",
        "In PyTorch, Tensors are objects that wrap an N-dimensional array of numbers. We use them to perform computations on GPU, and to **automatically differentiate** our functions."
      ]
    },
    {
      "cell_type": "code",
      "metadata": {
        "trusted": true,
        "_uuid": "e22be3f71825128f990e78959fa00d1331d344e4",
        "id": "IXnrwLfZJ5wO"
      },
      "source": [
        "# Create tensors.\n",
        "x = torch.tensor(3.)\n",
        "w = torch.tensor(4., requires_grad=True)\n",
        "b = torch.tensor(5., requires_grad=True)"
      ],
      "execution_count": null,
      "outputs": []
    },
    {
      "cell_type": "code",
      "metadata": {
        "trusted": true,
        "_uuid": "3cb90767ff9bc2c12b72548b1a430984241d4910",
        "colab": {
          "base_uri": "https://localhost:8080/"
        },
        "id": "2oY2vBDBJ5wP",
        "outputId": "8327cfbc-d0d6-4c99-92e0-e910de95e69d"
      },
      "source": [
        "# Print tensors\n",
        "print(x)\n",
        "print(w)\n",
        "print(b)"
      ],
      "execution_count": null,
      "outputs": [
        {
          "output_type": "stream",
          "name": "stdout",
          "text": [
            "tensor(3.)\n",
            "tensor(4., requires_grad=True)\n",
            "tensor(5., requires_grad=True)\n"
          ]
        }
      ]
    },
    {
      "cell_type": "markdown",
      "metadata": {
        "id": "uR5SpLeSdX-c"
      },
      "source": [
        "Let's create some 3-dimensional ones"
      ]
    },
    {
      "cell_type": "code",
      "metadata": {
        "id": "O5McV6P6dfsD"
      },
      "source": [
        "tensor3d_zeros = []   # your code here\n",
        "tensor3d_random = []   # your code here"
      ],
      "execution_count": null,
      "outputs": []
    },
    {
      "cell_type": "code",
      "metadata": {
        "id": "5DjdqrNFdrxa"
      },
      "source": [
        "print(tensor3d_zeros)\n",
        "print(tensor3d_random)"
      ],
      "execution_count": null,
      "outputs": []
    },
    {
      "cell_type": "markdown",
      "metadata": {
        "_uuid": "66a939ee0ec472705acd3f23654bc3ccea1cc8b4",
        "id": "Pn0NEQlXJ5wP"
      },
      "source": [
        "Nice. back to our example - we can combine tensors with the usual arithmetic operations:"
      ]
    },
    {
      "cell_type": "code",
      "metadata": {
        "trusted": true,
        "_uuid": "0bd8fdeb252742e3449b7a2f08bcb188645dc9cf",
        "id": "oYmUrFetJ5wP"
      },
      "source": [
        "# Arithmetic operations\n",
        "y = w * x + b\n",
        "print(y)"
      ],
      "execution_count": null,
      "outputs": []
    },
    {
      "cell_type": "markdown",
      "metadata": {
        "_uuid": "64e0f175c65c3e875c671c40e4a9bf495e30b772",
        "id": "a1EXQul0J5wQ"
      },
      "source": [
        "What makes PyTorch special, is that we can automatically compute the derivative of `y` w.r.t. the tensors that have `requires_grad` set to `True` i.e. `w` and `b`.  (remember how much we worked for our partial derivatives?)"
      ]
    },
    {
      "cell_type": "code",
      "metadata": {
        "trusted": true,
        "_uuid": "6c98996f00294f99eb11989b5a9ecdbda31864e1",
        "id": "_JbwGwiCJ5wQ"
      },
      "source": [
        "# Compute gradients\n",
        "y.backward()"
      ],
      "execution_count": null,
      "outputs": []
    },
    {
      "cell_type": "code",
      "metadata": {
        "trusted": true,
        "_uuid": "47a62ffb26a76329e511f9f063c4c26cc6a7dc21",
        "colab": {
          "base_uri": "https://localhost:8080/"
        },
        "id": "iOYVjiubJ5wR",
        "outputId": "f890da93-6e6e-4dcb-fd13-a6fdefc40ef9"
      },
      "source": [
        "# Display gradients\n",
        "print('dy/dw:', w.grad)\n",
        "print('dy/db:', b.grad)"
      ],
      "execution_count": null,
      "outputs": [
        {
          "output_type": "stream",
          "text": [
            "dy/dw: tensor(3.)\n",
            "dy/db: tensor(1.)\n"
          ],
          "name": "stdout"
        }
      ]
    },
    {
      "cell_type": "markdown",
      "metadata": {
        "_uuid": "0b65b6bb4d15127b1d51f09abf616cfd29fa48b4",
        "id": "o2_PeuljJ5wR"
      },
      "source": [
        "# Excercise - Linear regression revised\n",
        "##Problem Statement"
      ]
    },
    {
      "cell_type": "markdown",
      "metadata": {
        "_uuid": "c1beecda01bc332596edd193cade30006e3f6cbf",
        "id": "prtLSg5XJ5wR"
      },
      "source": [
        "We'll create a model that predicts crop yeilds for apples and oranges (*target variables*) by looking at the average temperature, rainfall and humidity (*input variables or features*) in a region. Here's the training data:\n",
        "\n",
        "<img src=\"https://i.imgur.com/lBguUV9.png\" width=\"500\" />\n",
        "\n",
        "In a **linear regression** model, each target variable is estimated to be a weighted sum of the input variables, offset by some constant, known as a bias :\n",
        "\n",
        "```\n",
        "yeild_apple  = w11 * temp + w12 * rainfall + w13 * humidity + b1\n",
        "yeild_orange = w21 * temp + w22 * rainfall + w23 * humidity + b2\n",
        "```\n",
        "\n",
        "Visually, it means that the yield of apples is a linear or planar function of the temperature, rainfall & humidity.\n",
        "\n",
        "<img src=\"https://i.imgur.com/mtkR2lB.png\" width=\"540\" >\n",
        "\n",
        "\n",
        "**Our objective**: Find a suitable set of *weights* and *biases* using the training data, to make accurate predictions."
      ]
    },
    {
      "cell_type": "markdown",
      "metadata": {
        "_uuid": "c24b8195c0e9c6e8e13e169d264484f1f9b3b1ae",
        "id": "gQQDxZM2J5wS"
      },
      "source": [
        "## Training Data\n",
        "The training data can be represented using 2 matrices (inputs and targets), each with one row per observation and one column per variable."
      ]
    },
    {
      "cell_type": "code",
      "metadata": {
        "trusted": true,
        "_uuid": "dfda99005fc6daf3a49ae1cdd427ccac0aa446b1",
        "id": "bB4m9ZiPJ5wS"
      },
      "source": [
        "# Input (temp, rainfall, humidity)\n",
        "inputs = np.array([[73, 67, 43], \n",
        "                   [91, 88, 64], \n",
        "                   [87, 134, 58], \n",
        "                   [102, 43, 37], \n",
        "                   [69, 96, 70]], dtype='float32')"
      ],
      "execution_count": null,
      "outputs": []
    },
    {
      "cell_type": "code",
      "metadata": {
        "trusted": true,
        "_uuid": "bf56faf74f7e29c9ed7523308718a9ab1acc0667",
        "id": "ea7C17TJJ5wS"
      },
      "source": [
        "# Targets (apples, oranges)\n",
        "targets = np.array([[56, 70], \n",
        "                    [81, 101], \n",
        "                    [119, 133], \n",
        "                    [22, 37], \n",
        "                    [103, 119]], dtype='float32')"
      ],
      "execution_count": null,
      "outputs": []
    },
    {
      "cell_type": "markdown",
      "metadata": {
        "_uuid": "652647cd90bd0784ec4dc53472410f7358ee18c9",
        "id": "nArXz8umJ5wT"
      },
      "source": [
        "## Linear Regression Model (from scratch)\n",
        "\n",
        "Let's define the three functions we used before:\n",
        "1. Output prediction (our architecture):\n",
        "\n",
        "$$y_{apples} = w_{11}*temp + w_{12}*rainfall + w_{13}*humidity + b_1$$\n",
        "$$y_{oranges} = w_{21}*temp + w_{22}*rainfall + w_{23}*humidity + b_2$$"
      ]
    },
    {
      "cell_type": "code",
      "metadata": {
        "trusted": true,
        "_uuid": "b1119f5ae9688a5f31dba438c7f78ca382deb7e3",
        "id": "UaD_XprOJ5wT"
      },
      "source": [
        "# Define the model architecture\n",
        "def output_formula(features, weights, biases):\n",
        "    pass"
      ],
      "execution_count": null,
      "outputs": []
    },
    {
      "cell_type": "markdown",
      "metadata": {
        "_uuid": "3579a065997cae41f7f504916b6bc07878ac768c",
        "id": "VKIe3xguJ5wT"
      },
      "source": [
        "Another option is to look at our *model* as simply a function that performs a matrix multiplication of the input `x` and the weights `w` (transposed) and adds the bias `b` (replicated for each observation).\n",
        "\n",
        "$$\n",
        "\\hspace{2.5cm} X \\hspace{1.1cm} \\times \\hspace{1.2cm} W^T \\hspace{1.2cm}  + \\hspace{1cm} b \\hspace{2cm}\n",
        "$$\n",
        "\n",
        "$$\n",
        "\\left[ \\begin{array}{cc}\n",
        "73 & 67 & 43 \\\\\n",
        "91 & 88 & 64 \\\\\n",
        "\\vdots & \\vdots & \\vdots \\\\\n",
        "69 & 96 & 70\n",
        "\\end{array} \\right]\n",
        "%\n",
        "\\times\n",
        "%\n",
        "\\left[ \\begin{array}{cc}\n",
        "w_{11} & w_{21} \\\\\n",
        "w_{12} & w_{22} \\\\\n",
        "w_{13} & w_{23}\n",
        "\\end{array} \\right]\n",
        "%\n",
        "+\n",
        "%\n",
        "\\left[ \\begin{array}{cc}\n",
        "b_{1} & b_{2} \\\\\n",
        "b_{1} & b_{2} \\\\\n",
        "\\vdots & \\vdots \\\\\n",
        "b_{1} & b_{2} \\\\\n",
        "\\end{array} \\right]\n",
        "$$"
      ]
    },
    {
      "cell_type": "code",
      "metadata": {
        "id": "ptkz-7SSRcIB"
      },
      "source": [
        "# Matrix notation\n",
        "def output_formula_matrix(features, weights, biases):\n",
        "    pass"
      ],
      "execution_count": null,
      "outputs": []
    },
    {
      "cell_type": "markdown",
      "metadata": {
        "_uuid": "8e0a4644cb1c4ed68a3bcf67a8a156341ac7c853",
        "id": "iFwt6FueJ5wT"
      },
      "source": [
        "The matrix obtained by passing the input data to the model is a set of predictions for the target variables."
      ]
    },
    {
      "cell_type": "markdown",
      "metadata": {
        "id": "GdwvLWZgRrPU"
      },
      "source": [
        "2. Loss function (same as before)"
      ]
    },
    {
      "cell_type": "code",
      "metadata": {
        "trusted": true,
        "_uuid": "dbf5bca8cbf2a3831089b454c70469e3748e9682",
        "id": "HY6xDBnrJ5wU"
      },
      "source": [
        "# MSE loss\n",
        "def error_formula(y, output):\n",
        "    pass"
      ],
      "execution_count": null,
      "outputs": []
    },
    {
      "cell_type": "markdown",
      "metadata": {
        "id": "hmR_m2rKSFa9"
      },
      "source": [
        "3. Weight update step:\n",
        "\n",
        "\n",
        "$$ w_{ij} \\longrightarrow w_{ij} + \\alpha \\frac{\\partial L}{\\partial w_{ij}}$$\n",
        "\n",
        "$$ b_i \\longrightarrow b_i + \\alpha \\frac{\\partial L}{\\partial b_i}$$\n",
        "\n",
        "Wait! This is a much more complicated function then we had before. How are we supposed to get the gradient for all these weights?\n",
        "\n",
        "Luckily, this is just what PyTorch is for - once we compute the loss on some inputs, we can just call __loss.backward()__ and the gradients will be calculated for all of the weights automatically.\n",
        "\n",
        "\n",
        "\n",
        "\n",
        "***Let's see a live example:***"
      ]
    },
    {
      "cell_type": "markdown",
      "metadata": {
        "_uuid": "70d48f83ae4fce7aba7dd78fd58dddc77c598bfd",
        "id": "yWzG0FZbJ5wS"
      },
      "source": [
        "Before we build a model, we need to convert inputs and targets to PyTorch tensors."
      ]
    },
    {
      "cell_type": "code",
      "metadata": {
        "trusted": true,
        "_uuid": "931c1bad8788e607fa100d4338e1b1fe120e2339",
        "id": "AU536g_gJ5wS"
      },
      "source": [
        "# Convert inputs and targets to tensors\n",
        "inputs = torch.from_numpy(inputs)\n",
        "targets = torch.from_numpy(targets)\n",
        "print(inputs)\n",
        "print(targets)"
      ],
      "execution_count": null,
      "outputs": []
    },
    {
      "cell_type": "code",
      "metadata": {
        "trusted": true,
        "_uuid": "6f788ae559355b3f01667be1554a5d2bdcade8db",
        "colab": {
          "base_uri": "https://localhost:8080/"
        },
        "id": "9-ArRiCGJ5wT",
        "outputId": "9bce1415-a44c-4a50-8ba3-e1b2ebe73f17"
      },
      "source": [
        "# Weights and biases\n",
        "w = torch.randn(2, 3, requires_grad=True)\n",
        "b = torch.randn(2, requires_grad=True)\n",
        "print(w)\n",
        "print(b)"
      ],
      "execution_count": null,
      "outputs": [
        {
          "output_type": "stream",
          "text": [
            "tensor([[ 0.5451,  0.0680, -0.6535],\n",
            "        [-0.6809,  0.4760, -0.7056]], requires_grad=True)\n",
            "tensor([-0.8820,  1.2350], requires_grad=True)\n"
          ],
          "name": "stdout"
        }
      ]
    },
    {
      "cell_type": "code",
      "metadata": {
        "trusted": true,
        "_uuid": "ef0d2bd2d9c5acb60992e238439ee00c2223319f",
        "colab": {
          "base_uri": "https://localhost:8080/"
        },
        "id": "Fcm71_CgJ5wX",
        "outputId": "d6ffc9d5-36c0-4b9b-b852-ec1cd13be9c1"
      },
      "source": [
        "# Generate predictions\n",
        "preds = output_formula_matrix(inputs, w, b)\n",
        "print(preds)"
      ],
      "execution_count": null,
      "outputs": [
        {
          "output_type": "stream",
          "text": [
            "tensor([[ 15.3666, -46.9201],\n",
            "        [ 12.8827, -63.9982],\n",
            "        [ 17.7504, -35.1427],\n",
            "        [ 33.4655, -73.8580],\n",
            "        [ -2.4878, -49.4434]], grad_fn=<AddBackward0>)\n"
          ],
          "name": "stdout"
        }
      ]
    },
    {
      "cell_type": "code",
      "metadata": {
        "trusted": true,
        "_uuid": "90da6779aad81608c40cdca77c3c04b68a815c11",
        "colab": {
          "base_uri": "https://localhost:8080/"
        },
        "id": "c2mmqlh3J5wV",
        "outputId": "7a7e5507-f3d0-43fc-eef4-14423a2ae36d"
      },
      "source": [
        "# Compute loss\n",
        "loss = error_formula(targets, preds)\n",
        "print(loss)"
      ],
      "execution_count": null,
      "outputs": [
        {
          "output_type": "stream",
          "text": [
            "tensor(13763.1035, grad_fn=<DivBackward0>)\n"
          ],
          "name": "stdout"
        }
      ]
    },
    {
      "cell_type": "code",
      "metadata": {
        "trusted": true,
        "_uuid": "ef66710c6ef1944567c4dc033e1ca316f35490ab",
        "id": "yXj2u22MJ5wV"
      },
      "source": [
        "# Compute gradients\n",
        "loss.backward()"
      ],
      "execution_count": null,
      "outputs": []
    },
    {
      "cell_type": "markdown",
      "metadata": {
        "_uuid": "6504cddcfb4bfb0817bf03ef460f08f3145a9091",
        "id": "-ym_IzQKJ5wV"
      },
      "source": [
        "As we've seen, the gradients are stored in the `.grad` property of the respective tensors."
      ]
    },
    {
      "cell_type": "code",
      "metadata": {
        "colab": {
          "base_uri": "https://localhost:8080/"
        },
        "id": "hCJXCTfyWHPT",
        "outputId": "ed2514dd-1670-4bfe-9494-1c7b6d3f03ef"
      },
      "source": [
        "print(w.grad)\n",
        "print(b.grad)"
      ],
      "execution_count": null,
      "outputs": [
        {
          "output_type": "stream",
          "text": [
            "tensor([[ -4816.5630,  -6383.6060,  -3787.8301],\n",
            "        [-12221.7070, -13164.4150,  -8246.5029]])\n",
            "tensor([ -60.8045, -145.8725])\n"
          ],
          "name": "stdout"
        }
      ]
    },
    {
      "cell_type": "markdown",
      "metadata": {
        "id": "demaQs0sWM5O"
      },
      "source": [
        "Let's proceed to write our update function:"
      ]
    },
    {
      "cell_type": "code",
      "metadata": {
        "trusted": true,
        "_uuid": "b042a3cf8f16f4c4380cccbac9d0892719c24190",
        "id": "h-8RomEkJ5wU"
      },
      "source": [
        "# Gradient descent step\n",
        "def update_weights(x, y, weights, biases, learn_rate):\n",
        "    # Compute loss and run loss.backward()\n",
        "\n",
        "    with torch.no_grad():\n",
        "      new_weights_val = None  # Update using the formula and the weights gradient\n",
        "      new_biases_val = None  # Update using the formula and the biases gradient\n",
        "\n",
        "      weights.copy_(new_weights_val)\n",
        "      biases.copy_(new_biases_val)\n",
        "\n",
        "      # Zero out gradient computation for later\n",
        "      weights.grad.zero_()\n",
        "      biases.grad.zero_()\n",
        "\n",
        "    return weights, biases"
      ],
      "execution_count": null,
      "outputs": []
    },
    {
      "cell_type": "markdown",
      "metadata": {
        "_uuid": "5501c66c9729c4954e9b798a0634a9d84487e639",
        "id": "NhG5KRJxJ5wX"
      },
      "source": [
        "## Adjust weights and biases using gradient descent\n",
        "\n",
        "We'll reduce the loss and improve our model using the gradient descent algorithm, which has the following steps:\n",
        "\n",
        "1. Generate predictions\n",
        "2. Calculate the loss\n",
        "3. Compute gradients w.r.t the weights and biases\n",
        "4. Adjust the weights by subtracting a small quantity proportional to the gradient\n",
        "5. Reset the gradients to zero"
      ]
    },
    {
      "cell_type": "markdown",
      "metadata": {
        "_uuid": "5201901695f3ea13d7fdd5d985da7e0761c541d0",
        "id": "k-11TOopJ5wY"
      },
      "source": [
        "## Train for multiple epochs\n",
        "\n",
        "Let's rereun our training function from before:"
      ]
    },
    {
      "cell_type": "code",
      "metadata": {
        "trusted": true,
        "_uuid": "9f5f0ffeee666b30c5828636359f0be6addbef7c",
        "id": "4dVGBzTLJ5wY"
      },
      "source": [
        "def train(features, targets, epochs, learnrate):\n",
        "    \n",
        "    errors = []\n",
        "    last_loss = None\n",
        "\n",
        "    # Init model weights\n",
        "    w = torch.randn(2, 3, requires_grad=True)\n",
        "    b = torch.randn(2, requires_grad=True)\n",
        "\n",
        "    for e in range(epochs):\n",
        "        for x, y in zip(features, targets):\n",
        "            w, b = update_weights(x, y, w, b, learnrate)\n",
        "\n",
        "        out = output_formula(features, w, b)\n",
        "        loss = error_formula(targets, out)\n",
        "        errors.append(loss)\n",
        "\n",
        "    return errors"
      ],
      "execution_count": null,
      "outputs": []
    },
    {
      "cell_type": "code",
      "metadata": {
        "trusted": true,
        "_uuid": "addec2c4eca8edfcae5544ea2cc717182c21d90f",
        "colab": {
          "base_uri": "https://localhost:8080/",
          "height": 295
        },
        "id": "GkC-Vob7J5wY",
        "outputId": "981bcbea-7ffc-4a73-96bb-a3fe45ff1941"
      },
      "source": [
        "epochs = 50\n",
        "learnrate = 1e-5\n",
        "\n",
        "errors = train(inputs, targets, epochs, learnrate)\n",
        "\n",
        "# Plotting the error\n",
        "plt.title(\"Error Plot\")\n",
        "plt.xlabel('Number of epochs')\n",
        "plt.ylabel('Error')\n",
        "plt.plot(errors)\n",
        "plt.show()"
      ],
      "execution_count": null,
      "outputs": [
        {
          "output_type": "display_data",
          "data": {
            "image/png": "[encoded data removed]",
            "text/plain": [
              "<Figure size 432x288 with 1 Axes>"
            ]
          },
          "metadata": {
            "tags": [],
            "needs_background": "light"
          }
        }
      ]
    }
  ]
}